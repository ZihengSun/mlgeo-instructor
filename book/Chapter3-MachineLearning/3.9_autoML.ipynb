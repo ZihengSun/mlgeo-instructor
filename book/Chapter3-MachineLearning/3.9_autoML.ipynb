{
 "cells": [
  {
   "cell_type": "markdown",
   "metadata": {},
   "source": [
    "# 3.5 AutoML\n",
    "\n",
    "Automated workflow for hyper-parameter tuning and optimal model finder"
   ]
  }
 ],
 "metadata": {
  "language_info": {
   "name": "python"
  },
  "orig_nbformat": 4
 },
 "nbformat": 4,
 "nbformat_minor": 2
}
